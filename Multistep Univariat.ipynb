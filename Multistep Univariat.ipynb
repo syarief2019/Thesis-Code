{
 "cells": [
  {
   "cell_type": "code",
   "execution_count": 1,
   "id": "21ec5441",
   "metadata": {},
   "outputs": [],
   "source": [
    "from pandas import read_csv\n",
    "from numpy import concatenate\n",
    "from pandas import DataFrame\n",
    "from pandas import concat\n",
    "from sklearn.preprocessing import LabelEncoder\n",
    "from sklearn.preprocessing import MinMaxScaler\n",
    "from keras.models import Sequential\n",
    "from keras.layers import Dense\n",
    "from keras.layers import LSTM\n",
    "from matplotlib import pyplot as plt\n",
    "from math import sqrt\n",
    "from sklearn.metrics import mean_squared_error\n",
    "import pandas as pd\n",
    "import numpy as np\n",
    "from keras.optimizers import Adam\n",
    "from keras.layers import Dropout\n",
    "\n",
    "data = pd.read_csv(\"clean_indonesia_data.csv\")"
   ]
  },
  {
   "cell_type": "code",
   "execution_count": 2,
   "id": "930b3e77",
   "metadata": {},
   "outputs": [
    {
     "data": {
      "text/html": [
       "<div>\n",
       "<style scoped>\n",
       "    .dataframe tbody tr th:only-of-type {\n",
       "        vertical-align: middle;\n",
       "    }\n",
       "\n",
       "    .dataframe tbody tr th {\n",
       "        vertical-align: top;\n",
       "    }\n",
       "\n",
       "    .dataframe thead th {\n",
       "        text-align: right;\n",
       "    }\n",
       "</style>\n",
       "<table border=\"1\" class=\"dataframe\">\n",
       "  <thead>\n",
       "    <tr style=\"text-align: right;\">\n",
       "      <th></th>\n",
       "      <th>date</th>\n",
       "      <th>cases</th>\n",
       "      <th>vaccin</th>\n",
       "      <th>fully_vaccin</th>\n",
       "    </tr>\n",
       "  </thead>\n",
       "  <tbody>\n",
       "    <tr>\n",
       "      <th>0</th>\n",
       "      <td>2020-03-02</td>\n",
       "      <td>2.0</td>\n",
       "      <td>0.0</td>\n",
       "      <td>0.0</td>\n",
       "    </tr>\n",
       "    <tr>\n",
       "      <th>1</th>\n",
       "      <td>2020-03-03</td>\n",
       "      <td>0.0</td>\n",
       "      <td>0.0</td>\n",
       "      <td>0.0</td>\n",
       "    </tr>\n",
       "    <tr>\n",
       "      <th>2</th>\n",
       "      <td>2020-03-04</td>\n",
       "      <td>0.0</td>\n",
       "      <td>0.0</td>\n",
       "      <td>0.0</td>\n",
       "    </tr>\n",
       "    <tr>\n",
       "      <th>3</th>\n",
       "      <td>2020-03-05</td>\n",
       "      <td>0.0</td>\n",
       "      <td>0.0</td>\n",
       "      <td>0.0</td>\n",
       "    </tr>\n",
       "    <tr>\n",
       "      <th>4</th>\n",
       "      <td>2020-03-06</td>\n",
       "      <td>2.0</td>\n",
       "      <td>0.0</td>\n",
       "      <td>0.0</td>\n",
       "    </tr>\n",
       "    <tr>\n",
       "      <th>...</th>\n",
       "      <td>...</td>\n",
       "      <td>...</td>\n",
       "      <td>...</td>\n",
       "      <td>...</td>\n",
       "    </tr>\n",
       "    <tr>\n",
       "      <th>598</th>\n",
       "      <td>2021-10-21</td>\n",
       "      <td>633.0</td>\n",
       "      <td>110406777.0</td>\n",
       "      <td>65173148.0</td>\n",
       "    </tr>\n",
       "    <tr>\n",
       "      <th>599</th>\n",
       "      <td>2021-10-22</td>\n",
       "      <td>760.0</td>\n",
       "      <td>111496041.0</td>\n",
       "      <td>66316667.0</td>\n",
       "    </tr>\n",
       "    <tr>\n",
       "      <th>600</th>\n",
       "      <td>2021-10-23</td>\n",
       "      <td>802.0</td>\n",
       "      <td>112271928.0</td>\n",
       "      <td>67165732.0</td>\n",
       "    </tr>\n",
       "    <tr>\n",
       "      <th>601</th>\n",
       "      <td>2021-10-24</td>\n",
       "      <td>623.0</td>\n",
       "      <td>113032768.0</td>\n",
       "      <td>67915440.0</td>\n",
       "    </tr>\n",
       "    <tr>\n",
       "      <th>602</th>\n",
       "      <td>2021-10-25</td>\n",
       "      <td>460.0</td>\n",
       "      <td>113424379.0</td>\n",
       "      <td>68264009.0</td>\n",
       "    </tr>\n",
       "  </tbody>\n",
       "</table>\n",
       "<p>603 rows × 4 columns</p>\n",
       "</div>"
      ],
      "text/plain": [
       "           date  cases       vaccin  fully_vaccin\n",
       "0    2020-03-02    2.0          0.0           0.0\n",
       "1    2020-03-03    0.0          0.0           0.0\n",
       "2    2020-03-04    0.0          0.0           0.0\n",
       "3    2020-03-05    0.0          0.0           0.0\n",
       "4    2020-03-06    2.0          0.0           0.0\n",
       "..          ...    ...          ...           ...\n",
       "598  2021-10-21  633.0  110406777.0    65173148.0\n",
       "599  2021-10-22  760.0  111496041.0    66316667.0\n",
       "600  2021-10-23  802.0  112271928.0    67165732.0\n",
       "601  2021-10-24  623.0  113032768.0    67915440.0\n",
       "602  2021-10-25  460.0  113424379.0    68264009.0\n",
       "\n",
       "[603 rows x 4 columns]"
      ]
     },
     "execution_count": 2,
     "metadata": {},
     "output_type": "execute_result"
    }
   ],
   "source": [
    "data"
   ]
  },
  {
   "cell_type": "code",
   "execution_count": 3,
   "id": "71033dbf",
   "metadata": {},
   "outputs": [],
   "source": [
    "def pemilihan(x, y):\n",
    "    x = x.transpose()\n",
    "    x = x.tolist()\n",
    "    y = y.tolist()\n",
    "    for i in range (1, len(x), 1):\n",
    "        if i == 1:\n",
    "            del x[i][len(x[i])-1]\n",
    "            x[i].insert(0, 0)\n",
    "        else:\n",
    "            for j in range (0,i,1):\n",
    "                del x[i][len(x[i])-1]\n",
    "                x[i].insert(0, 0)\n",
    "                \n",
    "    x = np.array(x)\n",
    "    x = x.transpose()\n",
    "    #x = x.tolist()\n",
    "    \n",
    "    for i in range (len(x)):\n",
    "        for j in range (len(x[0])):\n",
    "            x[i][j] =  x[i][j]-y[i]\n",
    "    \n",
    "    x_abs = np.copy(x)\n",
    "    for i in range (len(x)):\n",
    "        for j in range (len(x[0])):\n",
    "            x_abs[i][j] = abs(x_abs[i][j])\n",
    "    \n",
    "    best_predict = []\n",
    "    for i in range (len(x)):\n",
    "        best_predict.append(min(x_abs[i]))\n",
    "    \n",
    "    for i in range(len(x)):\n",
    "        for j in range (len(x[i])):\n",
    "            if best_predict[i] == abs(x[i][j]):\n",
    "                best_predict[i] = x[i][j] + y[i]\n",
    "    \n",
    "    return best_predict"
   ]
  },
  {
   "cell_type": "code",
   "execution_count": 4,
   "id": "49288a99",
   "metadata": {},
   "outputs": [],
   "source": [
    "del data['date']\n",
    "del data['vaccin']\n",
    "del data['fully_vaccin']"
   ]
  },
  {
   "cell_type": "code",
   "execution_count": 5,
   "id": "09920331",
   "metadata": {},
   "outputs": [],
   "source": [
    "def series_to_supervised(data, n_in=1, n_out=1, dropnan=True):\n",
    "    n_vars = 1 if type(data) is list else data.shape[1]\n",
    "    df = DataFrame(data)\n",
    "    cols, names = list(), list()\n",
    "    # input sequence (t-n, ... t-1)\n",
    "    for i in range(n_in, 0, -1):\n",
    "        cols.append(df.shift(i))\n",
    "        names += [('var%d(t-%d)' % (j+1, i)) for j in range(n_vars)]\n",
    "    # forecast sequence (t, t+1, ... t+n)\n",
    "    for i in range(0, n_out):\n",
    "        cols.append(df.shift(-i))\n",
    "        if i == 0:\n",
    "            names += [('var%d(t)' % (j+1)) for j in range(n_vars)]\n",
    "        else:\n",
    "            names += [('var%d(t+%d)' % (j+1, i)) for j in range(n_vars)]\n",
    "    # put it all together\n",
    "    agg = concat(cols, axis=1)\n",
    "    agg.columns = names\n",
    "    # drop rows with NaN values\n",
    "    if dropnan:\n",
    "        agg.dropna(inplace=True)\n",
    "    return agg"
   ]
  },
  {
   "cell_type": "code",
   "execution_count": 6,
   "id": "c44df0f9",
   "metadata": {},
   "outputs": [],
   "source": [
    "values = data.values\n",
    "values = values.astype('float32')\n",
    "scaler = MinMaxScaler(feature_range=(0, 1))\n",
    "scaled = scaler.fit_transform(values)"
   ]
  },
  {
   "cell_type": "code",
   "execution_count": 7,
   "id": "326888a8",
   "metadata": {},
   "outputs": [],
   "source": [
    "reframed = series_to_supervised(scaled, 7, 7)"
   ]
  },
  {
   "cell_type": "code",
   "execution_count": 8,
   "id": "08ce1679",
   "metadata": {},
   "outputs": [
    {
     "data": {
      "text/html": [
       "<div>\n",
       "<style scoped>\n",
       "    .dataframe tbody tr th:only-of-type {\n",
       "        vertical-align: middle;\n",
       "    }\n",
       "\n",
       "    .dataframe tbody tr th {\n",
       "        vertical-align: top;\n",
       "    }\n",
       "\n",
       "    .dataframe thead th {\n",
       "        text-align: right;\n",
       "    }\n",
       "</style>\n",
       "<table border=\"1\" class=\"dataframe\">\n",
       "  <thead>\n",
       "    <tr style=\"text-align: right;\">\n",
       "      <th></th>\n",
       "      <th>var1(t-7)</th>\n",
       "      <th>var1(t-6)</th>\n",
       "      <th>var1(t-5)</th>\n",
       "      <th>var1(t-4)</th>\n",
       "      <th>var1(t-3)</th>\n",
       "      <th>var1(t-2)</th>\n",
       "      <th>var1(t-1)</th>\n",
       "      <th>var1(t)</th>\n",
       "      <th>var1(t+1)</th>\n",
       "      <th>var1(t+2)</th>\n",
       "      <th>var1(t+3)</th>\n",
       "      <th>var1(t+4)</th>\n",
       "      <th>var1(t+5)</th>\n",
       "      <th>var1(t+6)</th>\n",
       "    </tr>\n",
       "  </thead>\n",
       "  <tbody>\n",
       "    <tr>\n",
       "      <th>7</th>\n",
       "      <td>0.000035</td>\n",
       "      <td>0.000000</td>\n",
       "      <td>0.000000</td>\n",
       "      <td>0.000000</td>\n",
       "      <td>0.000035</td>\n",
       "      <td>0.000000</td>\n",
       "      <td>0.000035</td>\n",
       "      <td>0.000229</td>\n",
       "      <td>0.000141</td>\n",
       "      <td>0.000123</td>\n",
       "      <td>0.000000</td>\n",
       "      <td>0.000617</td>\n",
       "      <td>0.000476</td>\n",
       "      <td>0.000370</td>\n",
       "    </tr>\n",
       "    <tr>\n",
       "      <th>8</th>\n",
       "      <td>0.000000</td>\n",
       "      <td>0.000000</td>\n",
       "      <td>0.000000</td>\n",
       "      <td>0.000035</td>\n",
       "      <td>0.000000</td>\n",
       "      <td>0.000035</td>\n",
       "      <td>0.000229</td>\n",
       "      <td>0.000141</td>\n",
       "      <td>0.000123</td>\n",
       "      <td>0.000000</td>\n",
       "      <td>0.000617</td>\n",
       "      <td>0.000476</td>\n",
       "      <td>0.000370</td>\n",
       "      <td>0.000300</td>\n",
       "    </tr>\n",
       "    <tr>\n",
       "      <th>9</th>\n",
       "      <td>0.000000</td>\n",
       "      <td>0.000000</td>\n",
       "      <td>0.000035</td>\n",
       "      <td>0.000000</td>\n",
       "      <td>0.000035</td>\n",
       "      <td>0.000229</td>\n",
       "      <td>0.000141</td>\n",
       "      <td>0.000123</td>\n",
       "      <td>0.000000</td>\n",
       "      <td>0.000617</td>\n",
       "      <td>0.000476</td>\n",
       "      <td>0.000370</td>\n",
       "      <td>0.000300</td>\n",
       "      <td>0.000670</td>\n",
       "    </tr>\n",
       "    <tr>\n",
       "      <th>10</th>\n",
       "      <td>0.000000</td>\n",
       "      <td>0.000035</td>\n",
       "      <td>0.000000</td>\n",
       "      <td>0.000035</td>\n",
       "      <td>0.000229</td>\n",
       "      <td>0.000141</td>\n",
       "      <td>0.000123</td>\n",
       "      <td>0.000000</td>\n",
       "      <td>0.000617</td>\n",
       "      <td>0.000476</td>\n",
       "      <td>0.000370</td>\n",
       "      <td>0.000300</td>\n",
       "      <td>0.000670</td>\n",
       "      <td>0.000969</td>\n",
       "    </tr>\n",
       "    <tr>\n",
       "      <th>11</th>\n",
       "      <td>0.000035</td>\n",
       "      <td>0.000000</td>\n",
       "      <td>0.000035</td>\n",
       "      <td>0.000229</td>\n",
       "      <td>0.000141</td>\n",
       "      <td>0.000123</td>\n",
       "      <td>0.000000</td>\n",
       "      <td>0.000617</td>\n",
       "      <td>0.000476</td>\n",
       "      <td>0.000370</td>\n",
       "      <td>0.000300</td>\n",
       "      <td>0.000670</td>\n",
       "      <td>0.000969</td>\n",
       "      <td>0.001480</td>\n",
       "    </tr>\n",
       "    <tr>\n",
       "      <th>...</th>\n",
       "      <td>...</td>\n",
       "      <td>...</td>\n",
       "      <td>...</td>\n",
       "      <td>...</td>\n",
       "      <td>...</td>\n",
       "      <td>...</td>\n",
       "      <td>...</td>\n",
       "      <td>...</td>\n",
       "      <td>...</td>\n",
       "      <td>...</td>\n",
       "      <td>...</td>\n",
       "      <td>...</td>\n",
       "      <td>...</td>\n",
       "      <td>...</td>\n",
       "    </tr>\n",
       "    <tr>\n",
       "      <th>592</th>\n",
       "      <td>0.024385</td>\n",
       "      <td>0.020561</td>\n",
       "      <td>0.015751</td>\n",
       "      <td>0.010924</td>\n",
       "      <td>0.022218</td>\n",
       "      <td>0.021724</td>\n",
       "      <td>0.018553</td>\n",
       "      <td>0.016121</td>\n",
       "      <td>0.017566</td>\n",
       "      <td>0.013161</td>\n",
       "      <td>0.011029</td>\n",
       "      <td>0.015910</td>\n",
       "      <td>0.016104</td>\n",
       "      <td>0.011153</td>\n",
       "    </tr>\n",
       "    <tr>\n",
       "      <th>593</th>\n",
       "      <td>0.020561</td>\n",
       "      <td>0.015751</td>\n",
       "      <td>0.010924</td>\n",
       "      <td>0.022218</td>\n",
       "      <td>0.021724</td>\n",
       "      <td>0.018553</td>\n",
       "      <td>0.016121</td>\n",
       "      <td>0.017566</td>\n",
       "      <td>0.013161</td>\n",
       "      <td>0.011029</td>\n",
       "      <td>0.015910</td>\n",
       "      <td>0.016104</td>\n",
       "      <td>0.011153</td>\n",
       "      <td>0.013390</td>\n",
       "    </tr>\n",
       "    <tr>\n",
       "      <th>594</th>\n",
       "      <td>0.015751</td>\n",
       "      <td>0.010924</td>\n",
       "      <td>0.022218</td>\n",
       "      <td>0.021724</td>\n",
       "      <td>0.018553</td>\n",
       "      <td>0.016121</td>\n",
       "      <td>0.017566</td>\n",
       "      <td>0.013161</td>\n",
       "      <td>0.011029</td>\n",
       "      <td>0.015910</td>\n",
       "      <td>0.016104</td>\n",
       "      <td>0.011153</td>\n",
       "      <td>0.013390</td>\n",
       "      <td>0.014130</td>\n",
       "    </tr>\n",
       "    <tr>\n",
       "      <th>595</th>\n",
       "      <td>0.010924</td>\n",
       "      <td>0.022218</td>\n",
       "      <td>0.021724</td>\n",
       "      <td>0.018553</td>\n",
       "      <td>0.016121</td>\n",
       "      <td>0.017566</td>\n",
       "      <td>0.013161</td>\n",
       "      <td>0.011029</td>\n",
       "      <td>0.015910</td>\n",
       "      <td>0.016104</td>\n",
       "      <td>0.011153</td>\n",
       "      <td>0.013390</td>\n",
       "      <td>0.014130</td>\n",
       "      <td>0.010977</td>\n",
       "    </tr>\n",
       "    <tr>\n",
       "      <th>596</th>\n",
       "      <td>0.022218</td>\n",
       "      <td>0.021724</td>\n",
       "      <td>0.018553</td>\n",
       "      <td>0.016121</td>\n",
       "      <td>0.017566</td>\n",
       "      <td>0.013161</td>\n",
       "      <td>0.011029</td>\n",
       "      <td>0.015910</td>\n",
       "      <td>0.016104</td>\n",
       "      <td>0.011153</td>\n",
       "      <td>0.013390</td>\n",
       "      <td>0.014130</td>\n",
       "      <td>0.010977</td>\n",
       "      <td>0.008105</td>\n",
       "    </tr>\n",
       "  </tbody>\n",
       "</table>\n",
       "<p>590 rows × 14 columns</p>\n",
       "</div>"
      ],
      "text/plain": [
       "     var1(t-7)  var1(t-6)  var1(t-5)  var1(t-4)  var1(t-3)  var1(t-2)  \\\n",
       "7     0.000035   0.000000   0.000000   0.000000   0.000035   0.000000   \n",
       "8     0.000000   0.000000   0.000000   0.000035   0.000000   0.000035   \n",
       "9     0.000000   0.000000   0.000035   0.000000   0.000035   0.000229   \n",
       "10    0.000000   0.000035   0.000000   0.000035   0.000229   0.000141   \n",
       "11    0.000035   0.000000   0.000035   0.000229   0.000141   0.000123   \n",
       "..         ...        ...        ...        ...        ...        ...   \n",
       "592   0.024385   0.020561   0.015751   0.010924   0.022218   0.021724   \n",
       "593   0.020561   0.015751   0.010924   0.022218   0.021724   0.018553   \n",
       "594   0.015751   0.010924   0.022218   0.021724   0.018553   0.016121   \n",
       "595   0.010924   0.022218   0.021724   0.018553   0.016121   0.017566   \n",
       "596   0.022218   0.021724   0.018553   0.016121   0.017566   0.013161   \n",
       "\n",
       "     var1(t-1)   var1(t)  var1(t+1)  var1(t+2)  var1(t+3)  var1(t+4)  \\\n",
       "7     0.000035  0.000229   0.000141   0.000123   0.000000   0.000617   \n",
       "8     0.000229  0.000141   0.000123   0.000000   0.000617   0.000476   \n",
       "9     0.000141  0.000123   0.000000   0.000617   0.000476   0.000370   \n",
       "10    0.000123  0.000000   0.000617   0.000476   0.000370   0.000300   \n",
       "11    0.000000  0.000617   0.000476   0.000370   0.000300   0.000670   \n",
       "..         ...       ...        ...        ...        ...        ...   \n",
       "592   0.018553  0.016121   0.017566   0.013161   0.011029   0.015910   \n",
       "593   0.016121  0.017566   0.013161   0.011029   0.015910   0.016104   \n",
       "594   0.017566  0.013161   0.011029   0.015910   0.016104   0.011153   \n",
       "595   0.013161  0.011029   0.015910   0.016104   0.011153   0.013390   \n",
       "596   0.011029  0.015910   0.016104   0.011153   0.013390   0.014130   \n",
       "\n",
       "     var1(t+5)  var1(t+6)  \n",
       "7     0.000476   0.000370  \n",
       "8     0.000370   0.000300  \n",
       "9     0.000300   0.000670  \n",
       "10    0.000670   0.000969  \n",
       "11    0.000969   0.001480  \n",
       "..         ...        ...  \n",
       "592   0.016104   0.011153  \n",
       "593   0.011153   0.013390  \n",
       "594   0.013390   0.014130  \n",
       "595   0.014130   0.010977  \n",
       "596   0.010977   0.008105  \n",
       "\n",
       "[590 rows x 14 columns]"
      ]
     },
     "execution_count": 8,
     "metadata": {},
     "output_type": "execute_result"
    }
   ],
   "source": [
    "reframed"
   ]
  },
  {
   "cell_type": "code",
   "execution_count": 9,
   "id": "0c63e20e",
   "metadata": {},
   "outputs": [],
   "source": [
    "values = reframed.values\n",
    "\n",
    "train = values[:-91, :]\n",
    "test = values[-91:-1, :]\n",
    "prediksi = values[-1, :]\n",
    "\n",
    "train_X, train_y = train[:,:7], train[:,7:]\n",
    "test_X, test_y = test[:,:7], test[:,7:]\n",
    "prediksi_x, prediksi_y = prediksi[:7], prediksi[7:] \n",
    "\n",
    "train_X = train_X.reshape((train_X.shape[0], 1, train_X.shape[1]))\n",
    "test_X = test_X.reshape((test_X.shape[0], 1, test_X.shape[1]))\n",
    "predict_X = prediksi_x.reshape((1, 1, 7))"
   ]
  },
  {
   "cell_type": "code",
   "execution_count": 10,
   "id": "ec01954a",
   "metadata": {},
   "outputs": [
    {
     "name": "stderr",
     "output_type": "stream",
     "text": [
      "C:\\Users\\AchmadFai\\anaconda3\\lib\\site-packages\\tensorflow\\python\\keras\\optimizer_v2\\optimizer_v2.py:374: UserWarning: The `lr` argument is deprecated, use `learning_rate` instead.\n",
      "  warnings.warn(\n"
     ]
    }
   ],
   "source": [
    "model = Sequential()\n",
    "model.add(LSTM(18, input_shape=(train_X.shape[1], train_X.shape[2])))\n",
    "model.add(Dense(7))\n",
    "model.add(Dropout(0.01))\n",
    "\n",
    "sgd = Adam(lr=0.01,decay=0.001)\n",
    "model.compile(loss = 'mae', optimizer = 'sgd')\n",
    "\n",
    "history = model.fit(train_X, train_y, epochs=2000, batch_size = 30, validation_data = (test_X, test_y), verbose=0, shuffle=False)"
   ]
  },
  {
   "cell_type": "code",
   "execution_count": 11,
   "id": "22186db3",
   "metadata": {},
   "outputs": [
    {
     "data": {
      "image/png": "[encoded data removed]",
      "text/plain": [
       "<Figure size 432x288 with 1 Axes>"
      ]
     },
     "metadata": {
      "needs_background": "light"
     },
     "output_type": "display_data"
    }
   ],
   "source": [
    "plt.plot(history.history['loss'], label = 'train')\n",
    "plt.plot(history.history['val_loss'], label = 'test')\n",
    "plt.legend\n",
    "plt.show()"
   ]
  },
  {
   "cell_type": "code",
   "execution_count": 12,
   "id": "2b81cee2",
   "metadata": {},
   "outputs": [
    {
     "name": "stdout",
     "output_type": "stream",
     "text": [
      "Test RMSE: 7940.763\n"
     ]
    }
   ],
   "source": [
    "yhat = model.predict(test_X)\n",
    "\n",
    "#invert scaling for forecast\n",
    "yhat = yhat.reshape((630, 1))\n",
    "inv_yhat = scaler.inverse_transform(yhat)\n",
    "inv_yhat = inv_yhat.reshape((90, 7))\n",
    "\n",
    "# invert scaling for actual\n",
    "test_y = test_y.reshape((630, 1))\n",
    "inv_y = scaler.inverse_transform(test_y)\n",
    "inv_y = inv_y.reshape((90, 7))\n",
    "\n",
    "# calculate RMSE\n",
    "rmse = sqrt(mean_squared_error(inv_y, inv_yhat))\n",
    "print('Test RMSE: %.3f' % rmse)"
   ]
  },
  {
   "cell_type": "code",
   "execution_count": 13,
   "id": "fa7a70be",
   "metadata": {},
   "outputs": [
    {
     "data": {
      "text/plain": [
       "13938.812"
      ]
     },
     "execution_count": 13,
     "metadata": {},
     "output_type": "execute_result"
    }
   ],
   "source": [
    "np.std(inv_y)"
   ]
  },
  {
   "cell_type": "code",
   "execution_count": 14,
   "id": "d5b0b879",
   "metadata": {},
   "outputs": [],
   "source": [
    "inv_y = inv_y[:, 0]"
   ]
  },
  {
   "cell_type": "code",
   "execution_count": 15,
   "id": "e73a75e4",
   "metadata": {},
   "outputs": [
    {
     "data": {
      "text/plain": [
       "14768.888"
      ]
     },
     "execution_count": 15,
     "metadata": {},
     "output_type": "execute_result"
    }
   ],
   "source": [
    "np.std(inv_y)"
   ]
  },
  {
   "cell_type": "code",
   "execution_count": 16,
   "id": "a6365654",
   "metadata": {},
   "outputs": [],
   "source": [
    "predict = pemilihan(inv_yhat,inv_y)"
   ]
  },
  {
   "cell_type": "code",
   "execution_count": 17,
   "id": "2bfe5cb4",
   "metadata": {},
   "outputs": [
    {
     "name": "stdout",
     "output_type": "stream",
     "text": [
      "Test RMSE: 6240.798\n"
     ]
    }
   ],
   "source": [
    "rmse = sqrt(mean_squared_error(inv_y, predict))\n",
    "print('Test RMSE: %.3f' % rmse)"
   ]
  },
  {
   "cell_type": "code",
   "execution_count": 18,
   "id": "c7b0b4c8",
   "metadata": {},
   "outputs": [
    {
     "data": {
      "image/png": "[encoded data removed]",
      "text/plain": [
       "<Figure size 576x360 with 1 Axes>"
      ]
     },
     "metadata": {
      "needs_background": "light"
     },
     "output_type": "display_data"
    }
   ],
   "source": [
    "import pandas as pd\n",
    "# generate urutan data sesuai panjang datanya\n",
    "x = pd.date_range(start=\"2021-7-01\", periods=90)\n",
    "\n",
    "# membuat frame\n",
    "fig, ax = plt.subplots(figsize = (8,5))\n",
    "\n",
    "# membuat time series plot\n",
    "ax.plot(x, inv_y, color=\"tab:red\", label=\"Aktual\", linewidth=2.5)\n",
    "ax.plot(x, predict, color=\"tab:green\", label=\"Estimasi\", linewidth=2.5)\n",
    "#ax.plot(x, inv_yhat, color=\"tab:blue\", label=\"prediksi\", linewidth=2.5)\n",
    "\n",
    "\n",
    "# membuat label-label\n",
    "ax.set_title(\"Kasus Covid Harian\", fontsize=14)\n",
    "ax.set_xlabel(\"Tanggal\", fontsize=12)\n",
    "ax.set_ylabel(\"Kasus Covid-19 Indonesia\", fontsize=12)\n",
    "ax.legend(loc='upper right')\n",
    "ax.grid(True)\n",
    "\n",
    "# menampilkan plot\n",
    "plt.show()"
   ]
  },
  {
   "cell_type": "code",
   "execution_count": 19,
   "id": "8dde2734",
   "metadata": {},
   "outputs": [],
   "source": [
    "train_y = train_y.reshape((3493, 1))\n",
    "train_y_copies = np.repeat(train_y, 3, axis= -1)\n",
    "inv_ytrain = scaler.inverse_transform(train_y_copies)\n",
    "inv_ytrain = inv_ytrain[:,0]\n",
    "inv_ytrain = inv_ytrain.reshape((499, 7))\n",
    "inv_ytrain = inv_ytrain[:,0]"
   ]
  },
  {
   "cell_type": "code",
   "execution_count": 20,
   "id": "0a9cafa4",
   "metadata": {},
   "outputs": [],
   "source": [
    "evaluasi = model.predict(train_X)"
   ]
  },
  {
   "cell_type": "code",
   "execution_count": 21,
   "id": "14a4d893",
   "metadata": {},
   "outputs": [],
   "source": [
    "evaluasi = evaluasi.reshape((3493, 1))\n",
    "evaluasi_copies = np.repeat(evaluasi, 3, axis= -1)\n",
    "inv_evaluasi = scaler.inverse_transform(evaluasi_copies)\n",
    "inv_evaluasi = inv_evaluasi[:,0]\n",
    "inv_evaluasi = inv_evaluasi.reshape((499, 7))\n",
    "evaluasi = pemilihan(inv_evaluasi, inv_ytrain)"
   ]
  },
  {
   "cell_type": "code",
   "execution_count": 22,
   "id": "d8ba7650",
   "metadata": {},
   "outputs": [
    {
     "data": {
      "image/png": "[encoded data removed]",
      "text/plain": [
       "<Figure size 576x360 with 1 Axes>"
      ]
     },
     "metadata": {
      "needs_background": "light"
     },
     "output_type": "display_data"
    }
   ],
   "source": [
    "import pandas as pd\n",
    "# generate urutan data sesuai panjang datanya\n",
    "x1 = pd.date_range(start=\"2020-3-9\", periods=499)\n",
    "x2 = pd.date_range(start=\"2021-7-21\", periods=90)\n",
    "\n",
    "# membuat frame\n",
    "fig, ax = plt.subplots(figsize = (8,5))\n",
    "\n",
    "# membuat time series plot\n",
    "ax.plot(x1, inv_ytrain, color=\"tab:red\", label=\"Aktual\", linewidth=2.5)\n",
    "ax.plot(x1, evaluasi, color=\"tab:blue\", label=\"Estimasi data latih\", linewidth=2.5)\n",
    "ax.plot(x2, inv_y, color=\"tab:red\", linewidth=2.5)\n",
    "ax.plot(x2, predict, color=\"tab:green\", label=\"Estimasi data uji\", linewidth=2.5)\n",
    "\n",
    "# membuat label-label\n",
    "ax.set_title(\"Kasus Covid-19 Indonesia (Harian)\", fontsize=14)\n",
    "ax.set_xlabel(\"Dates\", fontsize=12)\n",
    "ax.set_ylabel(\"Kasus Covid-19\", fontsize=12)\n",
    "ax.legend(loc='upper right')\n",
    "ax.grid(True)\n",
    "\n",
    "# menampilkan plot\n",
    "plt.show()"
   ]
  },
  {
   "cell_type": "code",
   "execution_count": 23,
   "id": "bd21446f",
   "metadata": {},
   "outputs": [],
   "source": [
    "yhat = model.predict(predict_X)\n",
    "\n",
    "yhat = yhat.reshape((7, 1))\n",
    "inv_yhat = scaler.inverse_transform(yhat)\n",
    "\n",
    "predict_y = prediksi_y.reshape((7, 1))\n",
    "inv_ypredict = scaler.inverse_transform(predict_y)"
   ]
  },
  {
   "cell_type": "code",
   "execution_count": 28,
   "id": "e5631632",
   "metadata": {},
   "outputs": [
    {
     "data": {
      "image/png": "[encoded data removed]",
      "text/plain": [
       "<Figure size 720x360 with 1 Axes>"
      ]
     },
     "metadata": {
      "needs_background": "light"
     },
     "output_type": "display_data"
    }
   ],
   "source": [
    "#import pandas as pd\n",
    "\n",
    "x = pd.date_range(start=\"2021-10-19\", periods=7)\n",
    "\n",
    "fig, ax = plt.subplots(figsize = (10,5))\n",
    "\n",
    "ax.plot(x, inv_ypredict, color=\"tab:red\", label=\"Aktual\", linewidth=2.5)\n",
    "ax.plot(x, inv_yhat, color=\"Blue\", label=\"Estimasi\", linewidth=2.5)\n",
    "\n",
    "# membuat label-label\n",
    "ax.set_title(\"Kasus Covid-19\", fontsize=14)\n",
    "ax.set_xlabel(\"Tanggal\", fontsize=12)\n",
    "ax.set_ylabel(\"Kasus Harian Covid\", fontsize=12)\n",
    "ax.legend(loc='upper right')\n",
    "ax.grid(True)\n",
    "\n",
    "# menampilkan plot\n",
    "#plt.show()"
   ]
  },
  {
   "cell_type": "code",
   "execution_count": 29,
   "id": "0388d23b",
   "metadata": {},
   "outputs": [
    {
     "name": "stdout",
     "output_type": "stream",
     "text": [
      "Test RMSE: 281.727\n"
     ]
    }
   ],
   "source": [
    "rmse = sqrt(mean_squared_error(inv_ypredict, inv_yhat))\n",
    "print('Test RMSE: %.3f' % rmse)"
   ]
  },
  {
   "cell_type": "code",
   "execution_count": 26,
   "id": "f1c87d24",
   "metadata": {},
   "outputs": [
    {
     "data": {
      "image/png": "[encoded data removed]",
      "text/plain": [
       "<Figure size 576x360 with 1 Axes>"
      ]
     },
     "metadata": {
      "needs_background": "light"
     },
     "output_type": "display_data"
    }
   ],
   "source": [
    "import pandas as pd\n",
    "# generate urutan data sesuai panjang datanya\n",
    "x1 = pd.date_range(start=\"2020-3-9\", periods=499)\n",
    "x2 = pd.date_range(start=\"2021-7-21\", periods=90)\n",
    "x3 = pd.date_range(start=\"2021-10-19\", periods=7)\n",
    "\n",
    "# membuat frame\n",
    "fig, ax = plt.subplots(figsize = (8,5))\n",
    "\n",
    "# membuat time series plot\n",
    "ax.plot(x1, inv_ytrain, color=\"tab:red\", label=\"Aktual\", linewidth=2.5)\n",
    "ax.plot(x1, evaluasi, color=\"tab:green\", label=\"Evaluasi Model\", linewidth=2.5)\n",
    "ax.plot(x2, inv_y, color=\"tab:red\")\n",
    "ax.plot(x2, predict, color=\"tab:green\")\n",
    "ax.plot(x3, inv_ypredict, color=\"tab:red\")\n",
    "ax.plot(x3, inv_yhat, color=\"blue\", label=\"Estimasi\", linewidth=2.5)\n",
    "\n",
    "# membuat label-label\n",
    "ax.set_title(\"Kasus Covid-19 Indonesia (Harian)\", fontsize=14)\n",
    "ax.set_xlabel(\"Dates\", fontsize=12)\n",
    "ax.set_ylabel(\"Kasus Covid-19\", fontsize=12)\n",
    "ax.legend(loc='upper right')\n",
    "ax.grid(True)\n",
    "\n",
    "# menampilkan plot\n",
    "plt.show()"
   ]
  },
  {
   "cell_type": "code",
   "execution_count": null,
   "id": "43ce10c5",
   "metadata": {},
   "outputs": [],
   "source": []
  },
  {
   "cell_type": "code",
   "execution_count": null,
   "id": "0e3e588f",
   "metadata": {},
   "outputs": [],
   "source": []
  }
 ],
 "metadata": {
  "kernelspec": {
   "display_name": "Python 3",
   "language": "python",
   "name": "python3"
  },
  "language_info": {
   "codemirror_mode": {
    "name": "ipython",
    "version": 3
   },
   "file_extension": ".py",
   "mimetype": "text/x-python",
   "name": "python",
   "nbconvert_exporter": "python",
   "pygments_lexer": "ipython3",
   "version": "3.8.8"
  }
 },
 "nbformat": 4,
 "nbformat_minor": 5
}
