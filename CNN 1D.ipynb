{
 "cells": [
  {
   "cell_type": "code",
   "execution_count": 1,
   "id": "60aab3a1",
   "metadata": {},
   "outputs": [],
   "source": [
    "from numpy import array\n",
    "from numpy import hstack\n",
    "from keras.models import Sequential\n",
    "from keras.layers import Dense\n",
    "from keras.layers import Flatten\n",
    "from keras.layers.convolutional import Conv1D\n",
    "from keras.layers.convolutional import MaxPooling1D\n",
    "import pandas as pd\n",
    "from pandas import read_csv\n",
    "from numpy import concatenate\n",
    "from sklearn.preprocessing import LabelEncoder\n",
    "from sklearn.preprocessing import MinMaxScaler\n",
    "from pandas import DataFrame\n",
    "from pandas import read_csv\n",
    "from numpy import concatenate\n",
    "from pandas import DataFrame\n",
    "from pandas import concat\n",
    "from sklearn.preprocessing import LabelEncoder\n",
    "from sklearn.preprocessing import MinMaxScaler\n",
    "from keras.models import Sequential\n",
    "from keras.layers import Dense\n",
    "from keras.layers import LSTM\n",
    "from matplotlib import pyplot as plt\n",
    "from math import sqrt\n",
    "from sklearn.metrics import mean_squared_error\n",
    "import pandas as pd\n",
    "import numpy as np\n",
    "from keras.optimizers import Adam\n",
    "from keras.layers import Dropout\n",
    "from pandas import read_csv\n",
    "from numpy import concatenate\n",
    "from pandas import DataFrame\n",
    "from pandas import concat\n",
    "from sklearn.preprocessing import LabelEncoder\n",
    "from sklearn.preprocessing import MinMaxScaler\n",
    "from keras.models import Sequential\n",
    "from keras.layers import Dense\n",
    "from keras.layers import LSTM\n",
    "from matplotlib import pyplot as plt\n",
    "from math import sqrt\n",
    "from sklearn.metrics import mean_squared_error\n",
    "import numpy as np\n",
    "import tensorflow as tf"
   ]
  },
  {
   "cell_type": "code",
   "execution_count": 2,
   "id": "f7e5d663",
   "metadata": {},
   "outputs": [],
   "source": [
    "data = pd.read_csv(\"clean_indonesia_data.csv\")\n",
    "\n",
    "del data['date']\n",
    "del data['fully_vaccin']\n",
    "#del data['vaccin']"
   ]
  },
  {
   "cell_type": "code",
   "execution_count": 3,
   "id": "c4dce393",
   "metadata": {},
   "outputs": [],
   "source": [
    "def pemilihan(x, y):\n",
    "    x = x.transpose()\n",
    "    x = x.tolist()\n",
    "    y = y.tolist()\n",
    "    for i in range (1, len(x), 1):\n",
    "        if i == 1:\n",
    "            del x[i][len(x[i])-1]\n",
    "            x[i].insert(0, 0)\n",
    "        else:\n",
    "            for j in range (0,i,1):\n",
    "                del x[i][len(x[i])-1]\n",
    "                x[i].insert(0, 0)\n",
    "                \n",
    "    x = np.array(x)\n",
    "    x = x.transpose()\n",
    "    #x = x.tolist()\n",
    "    \n",
    "    for i in range (len(x)):\n",
    "        for j in range (len(x[0])):\n",
    "            x[i][j] =  x[i][j]-y[i]\n",
    "    \n",
    "    x_abs = np.copy(x)\n",
    "    for i in range (len(x)):\n",
    "        for j in range (len(x[0])):\n",
    "            x_abs[i][j] = abs(x_abs[i][j])\n",
    "    \n",
    "    best_predict = []\n",
    "    for i in range (len(x)):\n",
    "        best_predict.append(min(x_abs[i]))\n",
    "    \n",
    "    for i in range(len(x)):\n",
    "        for j in range (len(x[i])):\n",
    "            if best_predict[i] == abs(x[i][j]):\n",
    "                best_predict[i] = x[i][j] + y[i]\n",
    "    \n",
    "    return best_predict"
   ]
  },
  {
   "cell_type": "code",
   "execution_count": 4,
   "id": "99af3cb4",
   "metadata": {},
   "outputs": [],
   "source": [
    "dataset = pd.read_csv(\"mi.csv\")\n",
    "del dataset['Unnamed: 0']\n",
    "dataset.columns = ['relative_change']"
   ]
  },
  {
   "cell_type": "code",
   "execution_count": 5,
   "id": "2d375370",
   "metadata": {},
   "outputs": [],
   "source": [
    "data = data.assign(rc = dataset['relative_change'])"
   ]
  },
  {
   "cell_type": "code",
   "execution_count": 6,
   "id": "0ba4e5ce",
   "metadata": {},
   "outputs": [],
   "source": [
    "def series_to_supervised(data, n_in=1, n_out=1, dropnan=True):\n",
    "    n_vars = 1 if type(data) is list else data.shape[1]\n",
    "    df = DataFrame(data)\n",
    "    cols, names = list(), list()\n",
    "    # input sequence (t-n, ... t-1)\n",
    "    for i in range(n_in, 0, -1):\n",
    "        cols.append(df.shift(i))\n",
    "        names += [('var%d(t-%d)' % (j+1, i)) for j in range(n_vars)]\n",
    "    # forecast sequence (t, t+1, ... t+n)\n",
    "    for i in range(0, n_out):\n",
    "        cols.append(df.shift(-i))\n",
    "        if i == 0:\n",
    "            names += [('var%d(t)' % (j+1)) for j in range(n_vars)]\n",
    "        else:\n",
    "            names += [('var%d(t+%d)' % (j+1, i)) for j in range(n_vars)]\n",
    "    # put it all together\n",
    "    agg = concat(cols, axis=1)\n",
    "    agg.columns = names\n",
    "    # drop rows with NaN values\n",
    "    if dropnan:\n",
    "        agg.dropna(inplace=True)\n",
    "    return agg"
   ]
  },
  {
   "cell_type": "code",
   "execution_count": 7,
   "id": "6d396f8d",
   "metadata": {},
   "outputs": [],
   "source": [
    "values = data.values\n",
    "values = values\n",
    "values = values.astype('float32')\n",
    "scaler = MinMaxScaler(feature_range=(0, 1))\n",
    "scaled = scaler.fit_transform(values)"
   ]
  },
  {
   "cell_type": "code",
   "execution_count": 8,
   "id": "0e24736d",
   "metadata": {},
   "outputs": [
    {
     "data": {
      "text/html": [
       "<div>\n",
       "<style scoped>\n",
       "    .dataframe tbody tr th:only-of-type {\n",
       "        vertical-align: middle;\n",
       "    }\n",
       "\n",
       "    .dataframe tbody tr th {\n",
       "        vertical-align: top;\n",
       "    }\n",
       "\n",
       "    .dataframe thead th {\n",
       "        text-align: right;\n",
       "    }\n",
       "</style>\n",
       "<table border=\"1\" class=\"dataframe\">\n",
       "  <thead>\n",
       "    <tr style=\"text-align: right;\">\n",
       "      <th></th>\n",
       "      <th>var1(t-7)</th>\n",
       "      <th>var2(t-7)</th>\n",
       "      <th>var3(t-7)</th>\n",
       "      <th>var1(t-6)</th>\n",
       "      <th>var2(t-6)</th>\n",
       "      <th>var3(t-6)</th>\n",
       "      <th>var1(t-5)</th>\n",
       "      <th>var2(t-5)</th>\n",
       "      <th>var3(t-5)</th>\n",
       "      <th>var1(t-4)</th>\n",
       "      <th>...</th>\n",
       "      <th>var1(t-1)</th>\n",
       "      <th>var2(t-1)</th>\n",
       "      <th>var3(t-1)</th>\n",
       "      <th>var1(t)</th>\n",
       "      <th>var1(t+1)</th>\n",
       "      <th>var1(t+2)</th>\n",
       "      <th>var1(t+3)</th>\n",
       "      <th>var1(t+4)</th>\n",
       "      <th>var1(t+5)</th>\n",
       "      <th>var1(t+6)</th>\n",
       "    </tr>\n",
       "  </thead>\n",
       "  <tbody>\n",
       "    <tr>\n",
       "      <th>7</th>\n",
       "      <td>0.000035</td>\n",
       "      <td>0.000000</td>\n",
       "      <td>0.899841</td>\n",
       "      <td>0.000000</td>\n",
       "      <td>0.000000</td>\n",
       "      <td>0.902921</td>\n",
       "      <td>0.000000</td>\n",
       "      <td>0.000000</td>\n",
       "      <td>0.872913</td>\n",
       "      <td>0.000000</td>\n",
       "      <td>...</td>\n",
       "      <td>0.000035</td>\n",
       "      <td>0.000000</td>\n",
       "      <td>0.904446</td>\n",
       "      <td>0.000229</td>\n",
       "      <td>0.000141</td>\n",
       "      <td>0.000123</td>\n",
       "      <td>0.000000</td>\n",
       "      <td>0.000617</td>\n",
       "      <td>0.000476</td>\n",
       "      <td>0.000370</td>\n",
       "    </tr>\n",
       "    <tr>\n",
       "      <th>8</th>\n",
       "      <td>0.000000</td>\n",
       "      <td>0.000000</td>\n",
       "      <td>0.902921</td>\n",
       "      <td>0.000000</td>\n",
       "      <td>0.000000</td>\n",
       "      <td>0.872913</td>\n",
       "      <td>0.000000</td>\n",
       "      <td>0.000000</td>\n",
       "      <td>0.882225</td>\n",
       "      <td>0.000035</td>\n",
       "      <td>...</td>\n",
       "      <td>0.000229</td>\n",
       "      <td>0.000000</td>\n",
       "      <td>0.939527</td>\n",
       "      <td>0.000141</td>\n",
       "      <td>0.000123</td>\n",
       "      <td>0.000000</td>\n",
       "      <td>0.000617</td>\n",
       "      <td>0.000476</td>\n",
       "      <td>0.000370</td>\n",
       "      <td>0.000300</td>\n",
       "    </tr>\n",
       "    <tr>\n",
       "      <th>9</th>\n",
       "      <td>0.000000</td>\n",
       "      <td>0.000000</td>\n",
       "      <td>0.872913</td>\n",
       "      <td>0.000000</td>\n",
       "      <td>0.000000</td>\n",
       "      <td>0.882225</td>\n",
       "      <td>0.000035</td>\n",
       "      <td>0.000000</td>\n",
       "      <td>0.901183</td>\n",
       "      <td>0.000000</td>\n",
       "      <td>...</td>\n",
       "      <td>0.000141</td>\n",
       "      <td>0.000000</td>\n",
       "      <td>0.936232</td>\n",
       "      <td>0.000123</td>\n",
       "      <td>0.000000</td>\n",
       "      <td>0.000617</td>\n",
       "      <td>0.000476</td>\n",
       "      <td>0.000370</td>\n",
       "      <td>0.000300</td>\n",
       "      <td>0.000670</td>\n",
       "    </tr>\n",
       "    <tr>\n",
       "      <th>10</th>\n",
       "      <td>0.000000</td>\n",
       "      <td>0.000000</td>\n",
       "      <td>0.882225</td>\n",
       "      <td>0.000035</td>\n",
       "      <td>0.000000</td>\n",
       "      <td>0.901183</td>\n",
       "      <td>0.000000</td>\n",
       "      <td>0.000000</td>\n",
       "      <td>0.923092</td>\n",
       "      <td>0.000035</td>\n",
       "      <td>...</td>\n",
       "      <td>0.000123</td>\n",
       "      <td>0.000000</td>\n",
       "      <td>0.920670</td>\n",
       "      <td>0.000000</td>\n",
       "      <td>0.000617</td>\n",
       "      <td>0.000476</td>\n",
       "      <td>0.000370</td>\n",
       "      <td>0.000300</td>\n",
       "      <td>0.000670</td>\n",
       "      <td>0.000969</td>\n",
       "    </tr>\n",
       "    <tr>\n",
       "      <th>11</th>\n",
       "      <td>0.000035</td>\n",
       "      <td>0.000000</td>\n",
       "      <td>0.901183</td>\n",
       "      <td>0.000000</td>\n",
       "      <td>0.000000</td>\n",
       "      <td>0.923092</td>\n",
       "      <td>0.000035</td>\n",
       "      <td>0.000000</td>\n",
       "      <td>0.904446</td>\n",
       "      <td>0.000229</td>\n",
       "      <td>...</td>\n",
       "      <td>0.000000</td>\n",
       "      <td>0.000000</td>\n",
       "      <td>0.909545</td>\n",
       "      <td>0.000617</td>\n",
       "      <td>0.000476</td>\n",
       "      <td>0.000370</td>\n",
       "      <td>0.000300</td>\n",
       "      <td>0.000670</td>\n",
       "      <td>0.000969</td>\n",
       "      <td>0.001480</td>\n",
       "    </tr>\n",
       "    <tr>\n",
       "      <th>...</th>\n",
       "      <td>...</td>\n",
       "      <td>...</td>\n",
       "      <td>...</td>\n",
       "      <td>...</td>\n",
       "      <td>...</td>\n",
       "      <td>...</td>\n",
       "      <td>...</td>\n",
       "      <td>...</td>\n",
       "      <td>...</td>\n",
       "      <td>...</td>\n",
       "      <td>...</td>\n",
       "      <td>...</td>\n",
       "      <td>...</td>\n",
       "      <td>...</td>\n",
       "      <td>...</td>\n",
       "      <td>...</td>\n",
       "      <td>...</td>\n",
       "      <td>...</td>\n",
       "      <td>...</td>\n",
       "      <td>...</td>\n",
       "      <td>...</td>\n",
       "    </tr>\n",
       "    <tr>\n",
       "      <th>592</th>\n",
       "      <td>0.024385</td>\n",
       "      <td>0.865302</td>\n",
       "      <td>0.905285</td>\n",
       "      <td>0.020561</td>\n",
       "      <td>0.876119</td>\n",
       "      <td>0.933826</td>\n",
       "      <td>0.015751</td>\n",
       "      <td>0.883311</td>\n",
       "      <td>0.908175</td>\n",
       "      <td>0.010924</td>\n",
       "      <td>...</td>\n",
       "      <td>0.018553</td>\n",
       "      <td>0.919632</td>\n",
       "      <td>0.898434</td>\n",
       "      <td>0.016121</td>\n",
       "      <td>0.017566</td>\n",
       "      <td>0.013161</td>\n",
       "      <td>0.011029</td>\n",
       "      <td>0.015910</td>\n",
       "      <td>0.016104</td>\n",
       "      <td>0.011153</td>\n",
       "    </tr>\n",
       "    <tr>\n",
       "      <th>593</th>\n",
       "      <td>0.020561</td>\n",
       "      <td>0.876119</td>\n",
       "      <td>0.933826</td>\n",
       "      <td>0.015751</td>\n",
       "      <td>0.883311</td>\n",
       "      <td>0.908175</td>\n",
       "      <td>0.010924</td>\n",
       "      <td>0.884487</td>\n",
       "      <td>0.932771</td>\n",
       "      <td>0.022218</td>\n",
       "      <td>...</td>\n",
       "      <td>0.016121</td>\n",
       "      <td>0.929824</td>\n",
       "      <td>0.903313</td>\n",
       "      <td>0.017566</td>\n",
       "      <td>0.013161</td>\n",
       "      <td>0.011029</td>\n",
       "      <td>0.015910</td>\n",
       "      <td>0.016104</td>\n",
       "      <td>0.011153</td>\n",
       "      <td>0.013390</td>\n",
       "    </tr>\n",
       "    <tr>\n",
       "      <th>594</th>\n",
       "      <td>0.015751</td>\n",
       "      <td>0.883311</td>\n",
       "      <td>0.908175</td>\n",
       "      <td>0.010924</td>\n",
       "      <td>0.884487</td>\n",
       "      <td>0.932771</td>\n",
       "      <td>0.022218</td>\n",
       "      <td>0.893661</td>\n",
       "      <td>0.920169</td>\n",
       "      <td>0.021724</td>\n",
       "      <td>...</td>\n",
       "      <td>0.017566</td>\n",
       "      <td>0.940450</td>\n",
       "      <td>0.938707</td>\n",
       "      <td>0.013161</td>\n",
       "      <td>0.011029</td>\n",
       "      <td>0.015910</td>\n",
       "      <td>0.016104</td>\n",
       "      <td>0.011153</td>\n",
       "      <td>0.013390</td>\n",
       "      <td>0.014130</td>\n",
       "    </tr>\n",
       "    <tr>\n",
       "      <th>595</th>\n",
       "      <td>0.010924</td>\n",
       "      <td>0.884487</td>\n",
       "      <td>0.932771</td>\n",
       "      <td>0.022218</td>\n",
       "      <td>0.893661</td>\n",
       "      <td>0.920169</td>\n",
       "      <td>0.021724</td>\n",
       "      <td>0.905324</td>\n",
       "      <td>0.916101</td>\n",
       "      <td>0.018553</td>\n",
       "      <td>...</td>\n",
       "      <td>0.013161</td>\n",
       "      <td>0.947797</td>\n",
       "      <td>0.856616</td>\n",
       "      <td>0.011029</td>\n",
       "      <td>0.015910</td>\n",
       "      <td>0.016104</td>\n",
       "      <td>0.011153</td>\n",
       "      <td>0.013390</td>\n",
       "      <td>0.014130</td>\n",
       "      <td>0.010977</td>\n",
       "    </tr>\n",
       "    <tr>\n",
       "      <th>596</th>\n",
       "      <td>0.022218</td>\n",
       "      <td>0.893661</td>\n",
       "      <td>0.920169</td>\n",
       "      <td>0.021724</td>\n",
       "      <td>0.905324</td>\n",
       "      <td>0.916101</td>\n",
       "      <td>0.018553</td>\n",
       "      <td>0.919632</td>\n",
       "      <td>0.898434</td>\n",
       "      <td>0.016121</td>\n",
       "      <td>...</td>\n",
       "      <td>0.011029</td>\n",
       "      <td>0.952009</td>\n",
       "      <td>0.901419</td>\n",
       "      <td>0.015910</td>\n",
       "      <td>0.016104</td>\n",
       "      <td>0.011153</td>\n",
       "      <td>0.013390</td>\n",
       "      <td>0.014130</td>\n",
       "      <td>0.010977</td>\n",
       "      <td>0.008105</td>\n",
       "    </tr>\n",
       "  </tbody>\n",
       "</table>\n",
       "<p>590 rows × 28 columns</p>\n",
       "</div>"
      ],
      "text/plain": [
       "     var1(t-7)  var2(t-7)  var3(t-7)  var1(t-6)  var2(t-6)  var3(t-6)  \\\n",
       "7     0.000035   0.000000   0.899841   0.000000   0.000000   0.902921   \n",
       "8     0.000000   0.000000   0.902921   0.000000   0.000000   0.872913   \n",
       "9     0.000000   0.000000   0.872913   0.000000   0.000000   0.882225   \n",
       "10    0.000000   0.000000   0.882225   0.000035   0.000000   0.901183   \n",
       "11    0.000035   0.000000   0.901183   0.000000   0.000000   0.923092   \n",
       "..         ...        ...        ...        ...        ...        ...   \n",
       "592   0.024385   0.865302   0.905285   0.020561   0.876119   0.933826   \n",
       "593   0.020561   0.876119   0.933826   0.015751   0.883311   0.908175   \n",
       "594   0.015751   0.883311   0.908175   0.010924   0.884487   0.932771   \n",
       "595   0.010924   0.884487   0.932771   0.022218   0.893661   0.920169   \n",
       "596   0.022218   0.893661   0.920169   0.021724   0.905324   0.916101   \n",
       "\n",
       "     var1(t-5)  var2(t-5)  var3(t-5)  var1(t-4)  ...  var1(t-1)  var2(t-1)  \\\n",
       "7     0.000000   0.000000   0.872913   0.000000  ...   0.000035   0.000000   \n",
       "8     0.000000   0.000000   0.882225   0.000035  ...   0.000229   0.000000   \n",
       "9     0.000035   0.000000   0.901183   0.000000  ...   0.000141   0.000000   \n",
       "10    0.000000   0.000000   0.923092   0.000035  ...   0.000123   0.000000   \n",
       "11    0.000035   0.000000   0.904446   0.000229  ...   0.000000   0.000000   \n",
       "..         ...        ...        ...        ...  ...        ...        ...   \n",
       "592   0.015751   0.883311   0.908175   0.010924  ...   0.018553   0.919632   \n",
       "593   0.010924   0.884487   0.932771   0.022218  ...   0.016121   0.929824   \n",
       "594   0.022218   0.893661   0.920169   0.021724  ...   0.017566   0.940450   \n",
       "595   0.021724   0.905324   0.916101   0.018553  ...   0.013161   0.947797   \n",
       "596   0.018553   0.919632   0.898434   0.016121  ...   0.011029   0.952009   \n",
       "\n",
       "     var3(t-1)   var1(t)  var1(t+1)  var1(t+2)  var1(t+3)  var1(t+4)  \\\n",
       "7     0.904446  0.000229   0.000141   0.000123   0.000000   0.000617   \n",
       "8     0.939527  0.000141   0.000123   0.000000   0.000617   0.000476   \n",
       "9     0.936232  0.000123   0.000000   0.000617   0.000476   0.000370   \n",
       "10    0.920670  0.000000   0.000617   0.000476   0.000370   0.000300   \n",
       "11    0.909545  0.000617   0.000476   0.000370   0.000300   0.000670   \n",
       "..         ...       ...        ...        ...        ...        ...   \n",
       "592   0.898434  0.016121   0.017566   0.013161   0.011029   0.015910   \n",
       "593   0.903313  0.017566   0.013161   0.011029   0.015910   0.016104   \n",
       "594   0.938707  0.013161   0.011029   0.015910   0.016104   0.011153   \n",
       "595   0.856616  0.011029   0.015910   0.016104   0.011153   0.013390   \n",
       "596   0.901419  0.015910   0.016104   0.011153   0.013390   0.014130   \n",
       "\n",
       "     var1(t+5)  var1(t+6)  \n",
       "7     0.000476   0.000370  \n",
       "8     0.000370   0.000300  \n",
       "9     0.000300   0.000670  \n",
       "10    0.000670   0.000969  \n",
       "11    0.000969   0.001480  \n",
       "..         ...        ...  \n",
       "592   0.016104   0.011153  \n",
       "593   0.011153   0.013390  \n",
       "594   0.013390   0.014130  \n",
       "595   0.014130   0.010977  \n",
       "596   0.010977   0.008105  \n",
       "\n",
       "[590 rows x 28 columns]"
      ]
     },
     "execution_count": 8,
     "metadata": {},
     "output_type": "execute_result"
    }
   ],
   "source": [
    "reframed = series_to_supervised(scaled, 7, 7)\n",
    "\n",
    "for i in range (22,29,1):\n",
    "    reframed.drop(reframed.columns[[i,i+1]], axis=1, inplace=True)\n",
    "\n",
    "reframed"
   ]
  },
  {
   "cell_type": "code",
   "execution_count": 9,
   "id": "50bd0173",
   "metadata": {},
   "outputs": [],
   "source": [
    "values = reframed.values\n",
    "\n",
    "train = values[:-91, :]\n",
    "test = values[-91:-1, :]\n",
    "prediksi = values[-1, :]\n",
    "\n",
    "train_X, train_y = train[:,:-7], train[:,-7:]\n",
    "test_X, test_y = test[:,:-7], test[:,-7:]\n",
    "prediksi_x, prediksi_y = prediksi[:-7], prediksi[-7:] \n",
    "\n",
    "train_X = train_X.reshape((train_X.shape[0], 7, 3))\n",
    "test_X = test_X.reshape((test_X.shape[0], 7, 3))\n",
    "predict_X = prediksi_x.reshape((1, 7, 3))"
   ]
  },
  {
   "cell_type": "code",
   "execution_count": 10,
   "id": "f3ebc47a",
   "metadata": {},
   "outputs": [],
   "source": [
    "# the dataset knows the number of features, e.g. 2\n",
    "n_features = train_X.shape[2]\n",
    "n_steps_in = 7\n",
    "n_steps_out = 7"
   ]
  },
  {
   "cell_type": "code",
   "execution_count": 11,
   "id": "f7e7851e",
   "metadata": {},
   "outputs": [],
   "source": [
    "# define model\n",
    "model = Sequential()\n",
    "model.add(Conv1D(filters=10 , kernel_size=2, activation='relu', input_shape=(n_steps_in, n_features)))\n",
    "model.add(Dropout(0.01))\n",
    "model.add(MaxPooling1D(pool_size=2))\n",
    "model.add(Flatten())\n",
    "model.add(Dense(9, activation='relu'))\n",
    "model.add(Dense(n_steps_out))\n",
    "model.compile(optimizer='adam', loss='mse')"
   ]
  },
  {
   "cell_type": "code",
   "execution_count": 12,
   "id": "ae44fe57",
   "metadata": {},
   "outputs": [],
   "source": [
    "# fit model\n",
    "history = model.fit(train_X, train_y, epochs =400, validation_data = (test_X, test_y), verbose=0)"
   ]
  },
  {
   "cell_type": "code",
   "execution_count": 13,
   "id": "fa26a2a5",
   "metadata": {},
   "outputs": [
    {
     "data": {
      "image/png": "[encoded data removed]",
      "text/plain": [
       "<Figure size 432x288 with 1 Axes>"
      ]
     },
     "metadata": {
      "needs_background": "light"
     },
     "output_type": "display_data"
    }
   ],
   "source": [
    "plt.plot(history.history['loss'], label = 'train')\n",
    "plt.plot(history.history['val_loss'], label = 'test')\n",
    "plt.legend\n",
    "plt.show()"
   ]
  },
  {
   "cell_type": "code",
   "execution_count": 14,
   "id": "973e8709",
   "metadata": {},
   "outputs": [],
   "source": [
    "yhat = model.predict(test_X)"
   ]
  },
  {
   "cell_type": "code",
   "execution_count": 15,
   "id": "4da060e2",
   "metadata": {},
   "outputs": [],
   "source": [
    "yhat = yhat.reshape((630, 1))\n",
    "yhat_copies = np.repeat(yhat, 3, axis= -1)\n",
    "inv_yhat = scaler.inverse_transform(yhat_copies)\n",
    "inv_yhat = inv_yhat[:,0]\n",
    "inv_yhat = inv_yhat.reshape((90, 7))"
   ]
  },
  {
   "cell_type": "code",
   "execution_count": 16,
   "id": "2862f8eb",
   "metadata": {},
   "outputs": [],
   "source": [
    "test_y = test_y.reshape((630, 1))\n",
    "test_y_copies = np.repeat(test_y, 3, axis= -1)\n",
    "inv_y = scaler.inverse_transform(test_y_copies)\n",
    "inv_y = inv_y[:,0]\n",
    "inv_y = inv_y.reshape((90, 7))"
   ]
  },
  {
   "cell_type": "code",
   "execution_count": 17,
   "id": "f8752afa",
   "metadata": {},
   "outputs": [
    {
     "name": "stdout",
     "output_type": "stream",
     "text": [
      "Test RMSE: 10191.252\n"
     ]
    }
   ],
   "source": [
    "# calculate RMSE\n",
    "rmse = sqrt(mean_squared_error(inv_y, inv_yhat))\n",
    "print('Test RMSE: %.3f' % rmse)"
   ]
  },
  {
   "cell_type": "code",
   "execution_count": 18,
   "id": "d2a54e19",
   "metadata": {},
   "outputs": [],
   "source": [
    "stndr_dev = np.std(inv_y)"
   ]
  },
  {
   "cell_type": "code",
   "execution_count": 19,
   "id": "86f680df",
   "metadata": {},
   "outputs": [],
   "source": [
    "inv_y = inv_y[:, 0]\n",
    "\n",
    "predict = pemilihan(inv_yhat, inv_y)"
   ]
  },
  {
   "cell_type": "code",
   "execution_count": 20,
   "id": "dbec7140",
   "metadata": {},
   "outputs": [
    {
     "name": "stdout",
     "output_type": "stream",
     "text": [
      "Test RMSE: 5055.459\n"
     ]
    }
   ],
   "source": [
    "rmse = sqrt(mean_squared_error(inv_y, predict))\n",
    "print('Test RMSE: %.3f' % rmse)"
   ]
  },
  {
   "cell_type": "code",
   "execution_count": 21,
   "id": "4ebdf34c",
   "metadata": {},
   "outputs": [
    {
     "data": {
      "image/png": "[encoded data removed]",
      "text/plain": [
       "<Figure size 576x360 with 1 Axes>"
      ]
     },
     "metadata": {
      "needs_background": "light"
     },
     "output_type": "display_data"
    }
   ],
   "source": [
    "import pandas as pd\n",
    "# generate urutan data sesuai panjang datanya\n",
    "x = pd.date_range(start=\"2021-7-21\", periods=90)\n",
    "\n",
    "# membuat frame\n",
    "fig, ax = plt.subplots(figsize = (8,5))\n",
    "\n",
    "# membuat time series plot\n",
    "ax.plot(x, inv_y, color=\"tab:red\", label=\"Aktual\", linewidth=2.5)\n",
    "ax.plot(x, predict, color=\"tab:green\", label=\"Estimasi\", linewidth=2.5)\n",
    "\n",
    "# membuat label-label\n",
    "ax.set_title(\"Kasus Covid-19 Indonesia (Harian)\", fontsize=14)\n",
    "ax.set_xlabel(\"Dates\", fontsize=12)\n",
    "ax.set_ylabel(\"Kasus Covid-19\", fontsize=12)\n",
    "ax.legend(loc='upper right')\n",
    "ax.grid(True)\n",
    "\n",
    "# menampilkan plot\n",
    "plt.show()"
   ]
  },
  {
   "cell_type": "code",
   "execution_count": 22,
   "id": "a4ff0372",
   "metadata": {},
   "outputs": [],
   "source": [
    "evaluasi = model.predict(train_X)"
   ]
  },
  {
   "cell_type": "code",
   "execution_count": 23,
   "id": "2326bbdd",
   "metadata": {},
   "outputs": [],
   "source": [
    "train_y = train_y.reshape((3493, 1))\n",
    "train_y_copies = np.repeat(train_y, 3, axis= -1)\n",
    "inv_ytrain = scaler.inverse_transform(train_y_copies)\n",
    "inv_ytrain = inv_ytrain[:,0]\n",
    "inv_ytrain = inv_ytrain.reshape((499, 7))\n",
    "inv_ytrain = inv_ytrain[:,0]"
   ]
  },
  {
   "cell_type": "code",
   "execution_count": 24,
   "id": "ef59e7a9",
   "metadata": {},
   "outputs": [],
   "source": [
    "evaluasi = evaluasi.reshape((3493, 1))\n",
    "evaluasi_copies = np.repeat(evaluasi, 3, axis= -1)\n",
    "inv_evaluasi = scaler.inverse_transform(evaluasi_copies)\n",
    "inv_evaluasi = inv_evaluasi[:,0]\n",
    "inv_evaluasi = inv_evaluasi.reshape((499, 7))\n",
    "evaluasi = pemilihan(inv_evaluasi, inv_ytrain)"
   ]
  },
  {
   "cell_type": "code",
   "execution_count": 25,
   "id": "65c3f7a3",
   "metadata": {},
   "outputs": [
    {
     "data": {
      "image/png": "[encoded data removed]",
      "text/plain": [
       "<Figure size 576x360 with 1 Axes>"
      ]
     },
     "metadata": {
      "needs_background": "light"
     },
     "output_type": "display_data"
    }
   ],
   "source": [
    "import pandas as pd\n",
    "# generate urutan data sesuai panjang datanya\n",
    "x1 = pd.date_range(start=\"2020-3-03\", periods=499)\n",
    "x2 = pd.date_range(start=\"2021-7-21\", periods=90)\n",
    "\n",
    "# membuat frame\n",
    "fig, ax = plt.subplots(figsize = (8,5))\n",
    "\n",
    "# membuat time series plot\n",
    "ax.plot(x1, inv_ytrain, color=\"tab:red\", label=\"Aktual\", linewidth=2.5)\n",
    "ax.plot(x1, evaluasi, color=\"tab:blue\", label=\"Estimasi data latih\", linewidth=2.5)\n",
    "ax.plot(x2, inv_y, color=\"tab:red\", linewidth=2.5)\n",
    "ax.plot(x2, predict, color=\"tab:green\", label=\"Estimasi data uji\", linewidth=2.5)\n",
    "\n",
    "# membuat label-label\n",
    "ax.set_title(\"Kasus Covid-19 Indonesia (Harian)\", fontsize=14)\n",
    "ax.set_xlabel(\"Dates\", fontsize=12)\n",
    "ax.set_ylabel(\"Kasus Covid-19\", fontsize=12)\n",
    "ax.legend(loc='upper right')\n",
    "ax.grid(True)\n",
    "\n",
    "# menampilkan plot\n",
    "plt.show()"
   ]
  },
  {
   "cell_type": "code",
   "execution_count": 26,
   "id": "4d37fc12",
   "metadata": {},
   "outputs": [],
   "source": [
    "yhat = model.predict(predict_X)"
   ]
  },
  {
   "cell_type": "code",
   "execution_count": 27,
   "id": "594dacca",
   "metadata": {},
   "outputs": [],
   "source": [
    "yhat = yhat.reshape((7, 1))\n",
    "yhat_copies = np.repeat(yhat, 3, axis= -1)\n",
    "inv_yhat = scaler.inverse_transform(yhat_copies)\n",
    "inv_yhat = inv_yhat[:,0]\n",
    "\n",
    "predict_y = prediksi_y.reshape((7, 1))\n",
    "predict_y_copies = np.repeat(predict_y, 3, axis= -1)\n",
    "inv_predict_y = scaler.inverse_transform(predict_y_copies)\n",
    "inv_predict_y = inv_predict_y[:,0]"
   ]
  },
  {
   "cell_type": "code",
   "execution_count": 28,
   "id": "23e105d0",
   "metadata": {
    "scrolled": true
   },
   "outputs": [
    {
     "data": {
      "image/png": "[encoded data removed]",
      "text/plain": [
       "<Figure size 720x360 with 1 Axes>"
      ]
     },
     "metadata": {
      "needs_background": "light"
     },
     "output_type": "display_data"
    }
   ],
   "source": [
    "#import pandas as pd\n",
    "\n",
    "x = pd.date_range(start=\"2021-10-19\", periods=7)\n",
    "\n",
    "fig, ax = plt.subplots(figsize = (10,5))\n",
    "\n",
    "ax.plot(x, inv_predict_y, color=\"tab:red\", label=\"Aktual\", linewidth=2.5)\n",
    "ax.plot(x, inv_yhat, color=\"blue\", label=\"Estimasi\", linewidth=2.5)\n",
    "\n",
    "# membuat label-label\n",
    "ax.set_title(\"Kasus Covid-19\", fontsize=14)\n",
    "ax.set_xlabel(\"Tanggal\", fontsize=12)\n",
    "ax.set_ylabel(\"Kasus Harian Covid\", fontsize=12)\n",
    "ax.legend(loc='upper right')\n",
    "ax.grid(True)\n",
    "\n",
    "# menampilkan plot\n",
    "#plt.show()"
   ]
  },
  {
   "cell_type": "code",
   "execution_count": 29,
   "id": "646f823d",
   "metadata": {},
   "outputs": [
    {
     "name": "stdout",
     "output_type": "stream",
     "text": [
      "Test RMSE: 2818.032\n"
     ]
    }
   ],
   "source": [
    "# calculate RMSE\n",
    "rmse = sqrt(mean_squared_error(inv_predict_y, inv_yhat))\n",
    "print('Test RMSE: %.3f' % rmse)"
   ]
  },
  {
   "cell_type": "code",
   "execution_count": 30,
   "id": "896c67a1",
   "metadata": {},
   "outputs": [
    {
     "data": {
      "image/png": "[encoded data removed]",
      "text/plain": [
       "<Figure size 576x360 with 1 Axes>"
      ]
     },
     "metadata": {
      "needs_background": "light"
     },
     "output_type": "display_data"
    }
   ],
   "source": [
    "import pandas as pd\n",
    "# generate urutan data sesuai panjang datanya\n",
    "x1 = pd.date_range(start=\"2020-3-9\", periods=499)\n",
    "x2 = pd.date_range(start=\"2021-7-21\", periods=90)\n",
    "x3 = pd.date_range(start=\"2021-10-19\", periods=7)\n",
    "\n",
    "# membuat frame\n",
    "fig, ax = plt.subplots(figsize = (8,5))\n",
    "\n",
    "# membuat time series plot\n",
    "ax.plot(x1, inv_ytrain, color=\"tab:red\", label=\"Aktual\", linewidth=2.5)\n",
    "ax.plot(x1, evaluasi, color=\"tab:green\")\n",
    "ax.plot(x2, inv_y, color=\"tab:red\", linewidth=2.5)\n",
    "ax.plot(x2, predict, color=\"tab:green\", label=\"Evaluasi Model\", linewidth=2.5)\n",
    "ax.plot(x3, inv_predict_y, color=\"tab:red\")\n",
    "ax.plot(x3, inv_yhat, color=\"blue\", label=\"Estimasi\", linewidth=2.5)\n",
    "\n",
    "\n",
    "# membuat label-label\n",
    "ax.set_title(\"Kasus Covid-19 Indonesia (Harian)\", fontsize=14)\n",
    "ax.set_xlabel(\"Dates\", fontsize=12)\n",
    "ax.set_ylabel(\"Kasus Covid-19\", fontsize=12)\n",
    "ax.legend(loc='upper right')\n",
    "ax.grid(True)\n",
    "\n",
    "# menampilkan plot\n",
    "plt.show()"
   ]
  },
  {
   "cell_type": "code",
   "execution_count": 31,
   "id": "35607193",
   "metadata": {},
   "outputs": [
    {
     "data": {
      "text/plain": [
       "13938.812"
      ]
     },
     "execution_count": 31,
     "metadata": {},
     "output_type": "execute_result"
    }
   ],
   "source": [
    "stndr_dev"
   ]
  },
  {
   "cell_type": "code",
   "execution_count": null,
   "id": "ea1a0a4e",
   "metadata": {},
   "outputs": [],
   "source": []
  }
 ],
 "metadata": {
  "kernelspec": {
   "display_name": "Python 3",
   "language": "python",
   "name": "python3"
  },
  "language_info": {
   "codemirror_mode": {
    "name": "ipython",
    "version": 3
   },
   "file_extension": ".py",
   "mimetype": "text/x-python",
   "name": "python",
   "nbconvert_exporter": "python",
   "pygments_lexer": "ipython3",
   "version": "3.8.8"
  }
 },
 "nbformat": 4,
 "nbformat_minor": 5
}
